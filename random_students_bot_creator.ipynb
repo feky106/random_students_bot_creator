{
 "cells": [
  {
   "cell_type": "code",
   "execution_count": 75,
   "id": "acef704f-1f7b-455d-9017-543bc958beba",
   "metadata": {},
   "outputs": [
    {
     "name": "stdout",
     "output_type": "stream",
     "text": [
      "pd is here\n"
     ]
    }
   ],
   "source": [
    "\n",
    "print(\"pd is here\")\n"
   ]
  },
  {
   "cell_type": "code",
   "execution_count": 222,
   "id": "73b9e888-66da-4071-9764-67c74b7a8132",
   "metadata": {},
   "outputs": [
    {
     "name": "stdout",
     "output_type": "stream",
     "text": [
      "          name gender\n",
      "0         John    boy\n",
      "1      William    boy\n",
      "2        James    boy\n",
      "3      Charles    boy\n",
      "4       George    boy\n",
      "...        ...    ...\n",
      "6777    Laylah   girl\n",
      "6778  Carleigh   girl\n",
      "6779    Kenley   girl\n",
      "6780    Sloane   girl\n",
      "6781   Elianna   girl\n",
      "\n",
      "[6782 rows x 2 columns]\n",
      "   name gender    id       G1        G2  G3\n",
      "0   NaN   name  math  physics  designe  NaN\n"
     ]
    }
   ],
   "source": []
  },
  {
   "cell_type": "code",
   "execution_count": 240,
   "id": "d0abb392-adec-4980-8b7b-6f3c334bbe62",
   "metadata": {},
   "outputs": [
    {
     "name": "stdout",
     "output_type": "stream",
     "text": [
      "                          Name gender         id  G1  g2  g3\n",
      "0         Melina Sherwood Stan   girl  202100001   4  95  86\n",
      "1           Archer Thurlow Ken    boy  202100002   3  91  32\n",
      "2          Dotty Betty Branden   girl  202100003  24  26  70\n",
      "3     Hortensia Squire Terence   girl  202100004  66  35  63\n",
      "4        Maliyah Demarcus Oren   girl  202100005  27  66  27\n",
      "...                        ...    ...        ...  ..  ..  ..\n",
      "1995           Mervin Robt Rob    boy  202101996  14  82  42\n",
      "1996       Zaria Whit Timmothy   girl  202101997  43  65  34\n",
      "1997      Heath Pryor Terrence    boy  202101998  38  82  64\n",
      "1998   Sawyer Rodrick Kathleen    boy  202101999  26  26   3\n",
      "1999          Lexie Kasey Marc    boy  202102000  26  57  83\n",
      "\n",
      "[2000 rows x 6 columns]\n"
     ]
    }
   ],
   "source": [
    "#importing libraries and a set of names (only single name)\n",
    "import pandas as pd\n",
    "import csv\n",
    "import random\n",
    "names = pd.read_csv('name_data.csv')\n",
    "\n",
    "data= []\n",
    "\n",
    "#creating random students data (triple name+ ID + three random grades)\n",
    "\n",
    "for r in range (0,2000):\n",
    "    list = []\n",
    "    \n",
    "    #creating first name\n",
    "    \n",
    "    x =  random.randint(0,6700)\n",
    "    list.append(x)\n",
    "    name1 = names.iloc[x,0]\n",
    "    g1 = names.iloc[x,1]\n",
    "    n = 0\n",
    "    \n",
    "    #creating the second name\n",
    "\n",
    "    while n ==0:\n",
    "        x = random.randint(0,6700)\n",
    "        g2 =names.iloc[x,1]\n",
    "        name2 = names.iloc[x,0]\n",
    "        \n",
    "        if g2== \"boy\":\n",
    "            if x not in list:\n",
    "                list.append(x)\n",
    "                break\n",
    "                \n",
    "    #creating the last name\n",
    "    while n==0:\n",
    "        x = random.randint(0,6700)\n",
    "        g3 = names.iloc[x,1]\n",
    "        name3 = names.iloc[x,0]\n",
    "      \n",
    "        if g3== \"boy\":\n",
    "            if x not in list:\n",
    "                break\n",
    "                    \n",
    "    name = name1 + \" \" + name2 + \" \" + name3\n",
    "    \n",
    "    #creating the ID with format 2021-----\n",
    "    \n",
    "    l = 5-len(str(r+1))\n",
    "    id = \"2021\" + \"0\"*l + str(r+1)\n",
    "    \n",
    "    #creating random values for each student\n",
    "    \n",
    "    r2 = str(random.randint(0,100))\n",
    "    r3 = str(random.randint(0,100))\n",
    "    r4 = str(random.randint(0,100))\n",
    "    \n",
    "    #appending on the data list\n",
    "    \n",
    "    data.append([name,g1,id,r2,r3,r4])\n",
    "   \n",
    "#conerting the data list into a dataframe\n",
    "\n",
    "df = pd.DataFrame(data, columns=['Name', 'gender','id','G1','g2','g3'])\n",
    "\n",
    "print(df)\n",
    "\n",
    "# You can convert the dataframe to a CSV file by activating the following command\n",
    "#df.to_csv(\"out.csv\")"
   ]
  },
  {
   "cell_type": "code",
   "execution_count": 235,
   "id": "db02cb83-d83c-42de-9cb8-1b59118655f5",
   "metadata": {},
   "outputs": [],
   "source": [
    "df.to_csv(\"out.csv\")"
   ]
  },
  {
   "cell_type": "code",
   "execution_count": null,
   "id": "de637ba5-0f5d-454a-93ab-cd93ad29b487",
   "metadata": {},
   "outputs": [],
   "source": []
  }
 ],
 "metadata": {
  "kernelspec": {
   "display_name": "Python 3 (ipykernel)",
   "language": "python",
   "name": "python3"
  },
  "language_info": {
   "codemirror_mode": {
    "name": "ipython",
    "version": 3
   },
   "file_extension": ".py",
   "mimetype": "text/x-python",
   "name": "python",
   "nbconvert_exporter": "python",
   "pygments_lexer": "ipython3",
   "version": "3.9.7"
  }
 },
 "nbformat": 4,
 "nbformat_minor": 5
}
